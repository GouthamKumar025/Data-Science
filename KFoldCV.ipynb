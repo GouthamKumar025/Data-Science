{
 "cells": [
  {
   "cell_type": "code",
   "execution_count": 30,
   "id": "e0cfffb5-60d0-49a3-bc72-cd8eede95fbf",
   "metadata": {
    "tags": []
   },
   "outputs": [],
   "source": [
    "import numpy as np\n",
    "import pandas as pd\n",
    "from sklearn.datasets import load_iris"
   ]
  },
  {
   "cell_type": "code",
   "execution_count": 31,
   "id": "ddbb709f-eaf6-4429-9dfb-10483f1e7025",
   "metadata": {
    "tags": []
   },
   "outputs": [],
   "source": [
    "df = load_iris()"
   ]
  },
  {
   "cell_type": "code",
   "execution_count": 32,
   "id": "2a667f69-51fc-4723-ab58-ee66a65f5ee0",
   "metadata": {
    "tags": []
   },
   "outputs": [
    {
     "data": {
      "text/plain": [
       "['DESCR',\n",
       " 'data',\n",
       " 'data_module',\n",
       " 'feature_names',\n",
       " 'filename',\n",
       " 'frame',\n",
       " 'target',\n",
       " 'target_names']"
      ]
     },
     "execution_count": 32,
     "metadata": {},
     "output_type": "execute_result"
    }
   ],
   "source": [
    "dir(df)"
   ]
  },
  {
   "cell_type": "code",
   "execution_count": 33,
   "id": "8d1d7c13-51b1-4306-be4e-b0759de99bea",
   "metadata": {
    "tags": []
   },
   "outputs": [],
   "source": [
    "from sklearn.model_selection import cross_val_score\n",
    "from sklearn.linear_model import LogisticRegression\n",
    "from sklearn.svm import SVC\n",
    "from sklearn.tree import DecisionTreeClassifier\n",
    "from sklearn.ensemble import RandomForestClassifier"
   ]
  },
  {
   "cell_type": "code",
   "execution_count": 34,
   "id": "100c5b66-f765-4f57-b1c9-8c1340405177",
   "metadata": {
    "tags": []
   },
   "outputs": [
    {
     "data": {
      "text/plain": [
       "array([0.96666667, 1.        , 0.93333333, 0.96666667, 1.        ])"
      ]
     },
     "execution_count": 34,
     "metadata": {},
     "output_type": "execute_result"
    }
   ],
   "source": [
    "lr = cross_val_score(LogisticRegression(max_iter=1000), df.data, df.target)\n",
    "lr"
   ]
  },
  {
   "cell_type": "code",
   "execution_count": 35,
   "id": "32774ee5-0a15-487d-a28f-97e23cd299fa",
   "metadata": {},
   "outputs": [
    {
     "data": {
      "text/plain": [
       "0.9733333333333334"
      ]
     },
     "execution_count": 35,
     "metadata": {},
     "output_type": "execute_result"
    }
   ],
   "source": [
    "lr_final = np.average(lr)\n",
    "lr_final"
   ]
  },
  {
   "cell_type": "code",
   "execution_count": 36,
   "id": "8f0fd97e-cbf4-45b5-9cff-f22bf088d0d2",
   "metadata": {
    "tags": []
   },
   "outputs": [
    {
     "data": {
      "text/plain": [
       "array([0.96666667, 0.96666667, 0.96666667, 0.93333333, 1.        ])"
      ]
     },
     "execution_count": 36,
     "metadata": {},
     "output_type": "execute_result"
    }
   ],
   "source": [
    "svc = cross_val_score(SVC(),df.data,df.target)\n",
    "svc"
   ]
  },
  {
   "cell_type": "code",
   "execution_count": 37,
   "id": "939e6c18-7d9f-436c-b108-8e019ef4a9e2",
   "metadata": {},
   "outputs": [
    {
     "data": {
      "text/plain": [
       "0.9666666666666666"
      ]
     },
     "execution_count": 37,
     "metadata": {},
     "output_type": "execute_result"
    }
   ],
   "source": [
    "svc_final = np.average(svc)\n",
    "svc_final"
   ]
  },
  {
   "cell_type": "code",
   "execution_count": 38,
   "id": "1341ea9e-4b86-436e-9abe-7b8cd56c089a",
   "metadata": {
    "tags": []
   },
   "outputs": [
    {
     "data": {
      "text/plain": [
       "array([0.96666667, 0.96666667, 0.9       , 0.96666667, 1.        ])"
      ]
     },
     "execution_count": 38,
     "metadata": {},
     "output_type": "execute_result"
    }
   ],
   "source": [
    "dt = cross_val_score(DecisionTreeClassifier(), df.data, df.target)\n",
    "dt"
   ]
  },
  {
   "cell_type": "code",
   "execution_count": 39,
   "id": "a890b553-d3e1-4b8b-a927-9ad6a875b406",
   "metadata": {
    "tags": []
   },
   "outputs": [
    {
     "data": {
      "text/plain": [
       "0.9600000000000002"
      ]
     },
     "execution_count": 39,
     "metadata": {},
     "output_type": "execute_result"
    }
   ],
   "source": [
    "dt_final = np.average(dt)\n",
    "dt_final"
   ]
  },
  {
   "cell_type": "code",
   "execution_count": 29,
   "id": "976d413d-668a-4214-a344-20c66398f8d2",
   "metadata": {
    "tags": []
   },
   "outputs": [
    {
     "data": {
      "text/plain": [
       "array([0.96666667, 0.96666667, 0.93333333, 0.96666667, 1.        ])"
      ]
     },
     "execution_count": 29,
     "metadata": {},
     "output_type": "execute_result"
    }
   ],
   "source": [
    "rfc = cross_val_score(RandomForestClassifier(n_estimators=25), df.data, df.target)\n",
    "rfc"
   ]
  },
  {
   "cell_type": "code",
   "execution_count": 24,
   "id": "f6b18bd8-62e3-4c3e-beb6-c98a5c90d921",
   "metadata": {
    "tags": []
   },
   "outputs": [
    {
     "data": {
      "text/plain": [
       "0.9666666666666668"
      ]
     },
     "execution_count": 24,
     "metadata": {},
     "output_type": "execute_result"
    }
   ],
   "source": [
    "rfc_final = np.average(rfc)\n",
    "rfc_final"
   ]
  }
 ],
 "metadata": {
  "kernelspec": {
   "display_name": "Python 3 (ipykernel)",
   "language": "python",
   "name": "python3"
  },
  "language_info": {
   "codemirror_mode": {
    "name": "ipython",
    "version": 3
   },
   "file_extension": ".py",
   "mimetype": "text/x-python",
   "name": "python",
   "nbconvert_exporter": "python",
   "pygments_lexer": "ipython3",
   "version": "3.11.4"
  }
 },
 "nbformat": 4,
 "nbformat_minor": 5
}
