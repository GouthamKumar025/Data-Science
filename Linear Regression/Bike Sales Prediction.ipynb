{
 "cells": [
  {
   "cell_type": "code",
   "execution_count": 187,
   "id": "2d427a1b",
   "metadata": {},
   "outputs": [
    {
     "data": {
      "text/html": [
       "<div>\n",
       "<style scoped>\n",
       "    .dataframe tbody tr th:only-of-type {\n",
       "        vertical-align: middle;\n",
       "    }\n",
       "\n",
       "    .dataframe tbody tr th {\n",
       "        vertical-align: top;\n",
       "    }\n",
       "\n",
       "    .dataframe thead th {\n",
       "        text-align: right;\n",
       "    }\n",
       "</style>\n",
       "<table border=\"1\" class=\"dataframe\">\n",
       "  <thead>\n",
       "    <tr style=\"text-align: right;\">\n",
       "      <th></th>\n",
       "      <th>name</th>\n",
       "      <th>selling_price</th>\n",
       "      <th>year</th>\n",
       "      <th>seller_type</th>\n",
       "      <th>owner</th>\n",
       "      <th>km_driven</th>\n",
       "      <th>ex_showroom_price</th>\n",
       "    </tr>\n",
       "  </thead>\n",
       "  <tbody>\n",
       "    <tr>\n",
       "      <th>0</th>\n",
       "      <td>Royal Enfield Classic 350</td>\n",
       "      <td>175000</td>\n",
       "      <td>2019</td>\n",
       "      <td>Individual</td>\n",
       "      <td>1st owner</td>\n",
       "      <td>350</td>\n",
       "      <td>NaN</td>\n",
       "    </tr>\n",
       "    <tr>\n",
       "      <th>1</th>\n",
       "      <td>Honda Dio</td>\n",
       "      <td>45000</td>\n",
       "      <td>2017</td>\n",
       "      <td>Individual</td>\n",
       "      <td>1st owner</td>\n",
       "      <td>5650</td>\n",
       "      <td>NaN</td>\n",
       "    </tr>\n",
       "    <tr>\n",
       "      <th>2</th>\n",
       "      <td>Royal Enfield Classic Gunmetal Grey</td>\n",
       "      <td>150000</td>\n",
       "      <td>2018</td>\n",
       "      <td>Individual</td>\n",
       "      <td>1st owner</td>\n",
       "      <td>12000</td>\n",
       "      <td>148114.0</td>\n",
       "    </tr>\n",
       "    <tr>\n",
       "      <th>3</th>\n",
       "      <td>Yamaha Fazer FI V 2.0 [2016-2018]</td>\n",
       "      <td>65000</td>\n",
       "      <td>2015</td>\n",
       "      <td>Individual</td>\n",
       "      <td>1st owner</td>\n",
       "      <td>23000</td>\n",
       "      <td>89643.0</td>\n",
       "    </tr>\n",
       "    <tr>\n",
       "      <th>4</th>\n",
       "      <td>Yamaha SZ [2013-2014]</td>\n",
       "      <td>20000</td>\n",
       "      <td>2011</td>\n",
       "      <td>Individual</td>\n",
       "      <td>2nd owner</td>\n",
       "      <td>21000</td>\n",
       "      <td>NaN</td>\n",
       "    </tr>\n",
       "  </tbody>\n",
       "</table>\n",
       "</div>"
      ],
      "text/plain": [
       "                                  name  selling_price  year seller_type   \n",
       "0            Royal Enfield Classic 350         175000  2019  Individual  \\\n",
       "1                            Honda Dio          45000  2017  Individual   \n",
       "2  Royal Enfield Classic Gunmetal Grey         150000  2018  Individual   \n",
       "3    Yamaha Fazer FI V 2.0 [2016-2018]          65000  2015  Individual   \n",
       "4                Yamaha SZ [2013-2014]          20000  2011  Individual   \n",
       "\n",
       "       owner  km_driven  ex_showroom_price  \n",
       "0  1st owner        350                NaN  \n",
       "1  1st owner       5650                NaN  \n",
       "2  1st owner      12000           148114.0  \n",
       "3  1st owner      23000            89643.0  \n",
       "4  2nd owner      21000                NaN  "
      ]
     },
     "execution_count": 187,
     "metadata": {},
     "output_type": "execute_result"
    }
   ],
   "source": [
    "import pandas as pd\n",
    "df=pd.read_csv('bike_details.csv')\n",
    "df.head(5)"
   ]
  },
  {
   "cell_type": "code",
   "execution_count": 188,
   "id": "62df1ed0",
   "metadata": {},
   "outputs": [
    {
     "data": {
      "text/plain": [
       "name                   0\n",
       "selling_price          0\n",
       "year                   0\n",
       "seller_type            0\n",
       "owner                  0\n",
       "km_driven              0\n",
       "ex_showroom_price    435\n",
       "dtype: int64"
      ]
     },
     "execution_count": 188,
     "metadata": {},
     "output_type": "execute_result"
    }
   ],
   "source": [
    "df.isnull().sum()"
   ]
  },
  {
   "cell_type": "code",
   "execution_count": 189,
   "id": "4ee3168d",
   "metadata": {},
   "outputs": [
    {
     "data": {
      "text/plain": [
       "name                  object\n",
       "selling_price          int64\n",
       "year                   int64\n",
       "seller_type           object\n",
       "owner                 object\n",
       "km_driven              int64\n",
       "ex_showroom_price    float64\n",
       "dtype: object"
      ]
     },
     "execution_count": 189,
     "metadata": {},
     "output_type": "execute_result"
    }
   ],
   "source": [
    "df.dtypes"
   ]
  },
  {
   "cell_type": "code",
   "execution_count": 190,
   "id": "90caab47",
   "metadata": {},
   "outputs": [
    {
     "data": {
      "text/html": [
       "<div>\n",
       "<style scoped>\n",
       "    .dataframe tbody tr th:only-of-type {\n",
       "        vertical-align: middle;\n",
       "    }\n",
       "\n",
       "    .dataframe tbody tr th {\n",
       "        vertical-align: top;\n",
       "    }\n",
       "\n",
       "    .dataframe thead th {\n",
       "        text-align: right;\n",
       "    }\n",
       "</style>\n",
       "<table border=\"1\" class=\"dataframe\">\n",
       "  <thead>\n",
       "    <tr style=\"text-align: right;\">\n",
       "      <th></th>\n",
       "      <th>selling_price</th>\n",
       "      <th>year</th>\n",
       "      <th>km_driven</th>\n",
       "      <th>ex_showroom_price</th>\n",
       "    </tr>\n",
       "  </thead>\n",
       "  <tbody>\n",
       "    <tr>\n",
       "      <th>count</th>\n",
       "      <td>1061.000000</td>\n",
       "      <td>1061.000000</td>\n",
       "      <td>1061.000000</td>\n",
       "      <td>6.260000e+02</td>\n",
       "    </tr>\n",
       "    <tr>\n",
       "      <th>mean</th>\n",
       "      <td>59638.151744</td>\n",
       "      <td>2013.867107</td>\n",
       "      <td>34359.833176</td>\n",
       "      <td>8.795871e+04</td>\n",
       "    </tr>\n",
       "    <tr>\n",
       "      <th>std</th>\n",
       "      <td>56304.291973</td>\n",
       "      <td>4.301191</td>\n",
       "      <td>51623.152702</td>\n",
       "      <td>7.749659e+04</td>\n",
       "    </tr>\n",
       "    <tr>\n",
       "      <th>min</th>\n",
       "      <td>5000.000000</td>\n",
       "      <td>1988.000000</td>\n",
       "      <td>350.000000</td>\n",
       "      <td>3.049000e+04</td>\n",
       "    </tr>\n",
       "    <tr>\n",
       "      <th>25%</th>\n",
       "      <td>28000.000000</td>\n",
       "      <td>2011.000000</td>\n",
       "      <td>13500.000000</td>\n",
       "      <td>5.485200e+04</td>\n",
       "    </tr>\n",
       "    <tr>\n",
       "      <th>50%</th>\n",
       "      <td>45000.000000</td>\n",
       "      <td>2015.000000</td>\n",
       "      <td>25000.000000</td>\n",
       "      <td>7.275250e+04</td>\n",
       "    </tr>\n",
       "    <tr>\n",
       "      <th>75%</th>\n",
       "      <td>70000.000000</td>\n",
       "      <td>2017.000000</td>\n",
       "      <td>43000.000000</td>\n",
       "      <td>8.703150e+04</td>\n",
       "    </tr>\n",
       "    <tr>\n",
       "      <th>max</th>\n",
       "      <td>760000.000000</td>\n",
       "      <td>2020.000000</td>\n",
       "      <td>880000.000000</td>\n",
       "      <td>1.278000e+06</td>\n",
       "    </tr>\n",
       "  </tbody>\n",
       "</table>\n",
       "</div>"
      ],
      "text/plain": [
       "       selling_price         year      km_driven  ex_showroom_price\n",
       "count    1061.000000  1061.000000    1061.000000       6.260000e+02\n",
       "mean    59638.151744  2013.867107   34359.833176       8.795871e+04\n",
       "std     56304.291973     4.301191   51623.152702       7.749659e+04\n",
       "min      5000.000000  1988.000000     350.000000       3.049000e+04\n",
       "25%     28000.000000  2011.000000   13500.000000       5.485200e+04\n",
       "50%     45000.000000  2015.000000   25000.000000       7.275250e+04\n",
       "75%     70000.000000  2017.000000   43000.000000       8.703150e+04\n",
       "max    760000.000000  2020.000000  880000.000000       1.278000e+06"
      ]
     },
     "execution_count": 190,
     "metadata": {},
     "output_type": "execute_result"
    }
   ],
   "source": [
    "df.describe()"
   ]
  },
  {
   "cell_type": "code",
   "execution_count": 191,
   "id": "87ad5b56",
   "metadata": {},
   "outputs": [
    {
     "data": {
      "text/html": [
       "<div>\n",
       "<style scoped>\n",
       "    .dataframe tbody tr th:only-of-type {\n",
       "        vertical-align: middle;\n",
       "    }\n",
       "\n",
       "    .dataframe tbody tr th {\n",
       "        vertical-align: top;\n",
       "    }\n",
       "\n",
       "    .dataframe thead th {\n",
       "        text-align: right;\n",
       "    }\n",
       "</style>\n",
       "<table border=\"1\" class=\"dataframe\">\n",
       "  <thead>\n",
       "    <tr style=\"text-align: right;\">\n",
       "      <th></th>\n",
       "      <th>name</th>\n",
       "      <th>selling_price</th>\n",
       "      <th>year</th>\n",
       "      <th>seller_type</th>\n",
       "      <th>owner</th>\n",
       "      <th>km_driven</th>\n",
       "      <th>ex_showroom_price</th>\n",
       "    </tr>\n",
       "  </thead>\n",
       "  <tbody>\n",
       "    <tr>\n",
       "      <th>0</th>\n",
       "      <td>Royal Enfield Classic 350</td>\n",
       "      <td>175000</td>\n",
       "      <td>2019</td>\n",
       "      <td>Individual</td>\n",
       "      <td>1st owner</td>\n",
       "      <td>350</td>\n",
       "      <td>NaN</td>\n",
       "    </tr>\n",
       "    <tr>\n",
       "      <th>1</th>\n",
       "      <td>Honda Dio</td>\n",
       "      <td>45000</td>\n",
       "      <td>2017</td>\n",
       "      <td>Individual</td>\n",
       "      <td>1st owner</td>\n",
       "      <td>5650</td>\n",
       "      <td>NaN</td>\n",
       "    </tr>\n",
       "    <tr>\n",
       "      <th>2</th>\n",
       "      <td>Royal Enfield Classic Gunmetal Grey</td>\n",
       "      <td>150000</td>\n",
       "      <td>2018</td>\n",
       "      <td>Individual</td>\n",
       "      <td>1st owner</td>\n",
       "      <td>12000</td>\n",
       "      <td>148114.0</td>\n",
       "    </tr>\n",
       "    <tr>\n",
       "      <th>3</th>\n",
       "      <td>Yamaha Fazer FI V 2.0 [2016-2018]</td>\n",
       "      <td>65000</td>\n",
       "      <td>2015</td>\n",
       "      <td>Individual</td>\n",
       "      <td>1st owner</td>\n",
       "      <td>23000</td>\n",
       "      <td>89643.0</td>\n",
       "    </tr>\n",
       "    <tr>\n",
       "      <th>4</th>\n",
       "      <td>Yamaha SZ [2013-2014]</td>\n",
       "      <td>20000</td>\n",
       "      <td>2011</td>\n",
       "      <td>Individual</td>\n",
       "      <td>2nd owner</td>\n",
       "      <td>21000</td>\n",
       "      <td>NaN</td>\n",
       "    </tr>\n",
       "  </tbody>\n",
       "</table>\n",
       "</div>"
      ],
      "text/plain": [
       "                                  name  selling_price  year seller_type   \n",
       "0            Royal Enfield Classic 350         175000  2019  Individual  \\\n",
       "1                            Honda Dio          45000  2017  Individual   \n",
       "2  Royal Enfield Classic Gunmetal Grey         150000  2018  Individual   \n",
       "3    Yamaha Fazer FI V 2.0 [2016-2018]          65000  2015  Individual   \n",
       "4                Yamaha SZ [2013-2014]          20000  2011  Individual   \n",
       "\n",
       "       owner  km_driven  ex_showroom_price  \n",
       "0  1st owner        350                NaN  \n",
       "1  1st owner       5650                NaN  \n",
       "2  1st owner      12000           148114.0  \n",
       "3  1st owner      23000            89643.0  \n",
       "4  2nd owner      21000                NaN  "
      ]
     },
     "execution_count": 191,
     "metadata": {},
     "output_type": "execute_result"
    }
   ],
   "source": [
    "df.head(5)"
   ]
  },
  {
   "cell_type": "code",
   "execution_count": 192,
   "id": "f6df8236",
   "metadata": {},
   "outputs": [
    {
     "data": {
      "text/html": [
       "<div>\n",
       "<style scoped>\n",
       "    .dataframe tbody tr th:only-of-type {\n",
       "        vertical-align: middle;\n",
       "    }\n",
       "\n",
       "    .dataframe tbody tr th {\n",
       "        vertical-align: top;\n",
       "    }\n",
       "\n",
       "    .dataframe thead th {\n",
       "        text-align: right;\n",
       "    }\n",
       "</style>\n",
       "<table border=\"1\" class=\"dataframe\">\n",
       "  <thead>\n",
       "    <tr style=\"text-align: right;\">\n",
       "      <th></th>\n",
       "      <th>name</th>\n",
       "      <th>selling_price</th>\n",
       "      <th>year</th>\n",
       "      <th>seller_type</th>\n",
       "      <th>owner</th>\n",
       "      <th>km_driven</th>\n",
       "      <th>ex_showroom_price</th>\n",
       "    </tr>\n",
       "  </thead>\n",
       "  <tbody>\n",
       "    <tr>\n",
       "      <th>0</th>\n",
       "      <td>Royal Enfield Classic 350</td>\n",
       "      <td>175000</td>\n",
       "      <td>2019</td>\n",
       "      <td>Individual</td>\n",
       "      <td>1st owner</td>\n",
       "      <td>350</td>\n",
       "      <td>87958.714058</td>\n",
       "    </tr>\n",
       "    <tr>\n",
       "      <th>1</th>\n",
       "      <td>Honda Dio</td>\n",
       "      <td>45000</td>\n",
       "      <td>2017</td>\n",
       "      <td>Individual</td>\n",
       "      <td>1st owner</td>\n",
       "      <td>5650</td>\n",
       "      <td>87958.714058</td>\n",
       "    </tr>\n",
       "    <tr>\n",
       "      <th>2</th>\n",
       "      <td>Royal Enfield Classic Gunmetal Grey</td>\n",
       "      <td>150000</td>\n",
       "      <td>2018</td>\n",
       "      <td>Individual</td>\n",
       "      <td>1st owner</td>\n",
       "      <td>12000</td>\n",
       "      <td>148114.000000</td>\n",
       "    </tr>\n",
       "    <tr>\n",
       "      <th>3</th>\n",
       "      <td>Yamaha Fazer FI V 2.0 [2016-2018]</td>\n",
       "      <td>65000</td>\n",
       "      <td>2015</td>\n",
       "      <td>Individual</td>\n",
       "      <td>1st owner</td>\n",
       "      <td>23000</td>\n",
       "      <td>89643.000000</td>\n",
       "    </tr>\n",
       "    <tr>\n",
       "      <th>4</th>\n",
       "      <td>Yamaha SZ [2013-2014]</td>\n",
       "      <td>20000</td>\n",
       "      <td>2011</td>\n",
       "      <td>Individual</td>\n",
       "      <td>2nd owner</td>\n",
       "      <td>21000</td>\n",
       "      <td>87958.714058</td>\n",
       "    </tr>\n",
       "    <tr>\n",
       "      <th>...</th>\n",
       "      <td>...</td>\n",
       "      <td>...</td>\n",
       "      <td>...</td>\n",
       "      <td>...</td>\n",
       "      <td>...</td>\n",
       "      <td>...</td>\n",
       "      <td>...</td>\n",
       "    </tr>\n",
       "    <tr>\n",
       "      <th>1056</th>\n",
       "      <td>Activa 3g</td>\n",
       "      <td>17000</td>\n",
       "      <td>2010</td>\n",
       "      <td>Individual</td>\n",
       "      <td>1st owner</td>\n",
       "      <td>500000</td>\n",
       "      <td>52000.000000</td>\n",
       "    </tr>\n",
       "    <tr>\n",
       "      <th>1057</th>\n",
       "      <td>Honda CB twister</td>\n",
       "      <td>16000</td>\n",
       "      <td>2012</td>\n",
       "      <td>Individual</td>\n",
       "      <td>1st owner</td>\n",
       "      <td>33000</td>\n",
       "      <td>51000.000000</td>\n",
       "    </tr>\n",
       "    <tr>\n",
       "      <th>1058</th>\n",
       "      <td>Bajaj Discover 125</td>\n",
       "      <td>15000</td>\n",
       "      <td>2013</td>\n",
       "      <td>Individual</td>\n",
       "      <td>2nd owner</td>\n",
       "      <td>35000</td>\n",
       "      <td>57000.000000</td>\n",
       "    </tr>\n",
       "    <tr>\n",
       "      <th>1059</th>\n",
       "      <td>Honda CB Shine</td>\n",
       "      <td>12000</td>\n",
       "      <td>2009</td>\n",
       "      <td>Individual</td>\n",
       "      <td>1st owner</td>\n",
       "      <td>53000</td>\n",
       "      <td>58000.000000</td>\n",
       "    </tr>\n",
       "    <tr>\n",
       "      <th>1060</th>\n",
       "      <td>Bajaj Pulsar 150</td>\n",
       "      <td>10000</td>\n",
       "      <td>2008</td>\n",
       "      <td>Individual</td>\n",
       "      <td>1st owner</td>\n",
       "      <td>92233</td>\n",
       "      <td>75000.000000</td>\n",
       "    </tr>\n",
       "  </tbody>\n",
       "</table>\n",
       "<p>1061 rows × 7 columns</p>\n",
       "</div>"
      ],
      "text/plain": [
       "                                     name  selling_price  year seller_type   \n",
       "0               Royal Enfield Classic 350         175000  2019  Individual  \\\n",
       "1                               Honda Dio          45000  2017  Individual   \n",
       "2     Royal Enfield Classic Gunmetal Grey         150000  2018  Individual   \n",
       "3       Yamaha Fazer FI V 2.0 [2016-2018]          65000  2015  Individual   \n",
       "4                   Yamaha SZ [2013-2014]          20000  2011  Individual   \n",
       "...                                   ...            ...   ...         ...   \n",
       "1056                            Activa 3g          17000  2010  Individual   \n",
       "1057                     Honda CB twister          16000  2012  Individual   \n",
       "1058                   Bajaj Discover 125          15000  2013  Individual   \n",
       "1059                       Honda CB Shine          12000  2009  Individual   \n",
       "1060                     Bajaj Pulsar 150          10000  2008  Individual   \n",
       "\n",
       "          owner  km_driven  ex_showroom_price  \n",
       "0     1st owner        350       87958.714058  \n",
       "1     1st owner       5650       87958.714058  \n",
       "2     1st owner      12000      148114.000000  \n",
       "3     1st owner      23000       89643.000000  \n",
       "4     2nd owner      21000       87958.714058  \n",
       "...         ...        ...                ...  \n",
       "1056  1st owner     500000       52000.000000  \n",
       "1057  1st owner      33000       51000.000000  \n",
       "1058  2nd owner      35000       57000.000000  \n",
       "1059  1st owner      53000       58000.000000  \n",
       "1060  1st owner      92233       75000.000000  \n",
       "\n",
       "[1061 rows x 7 columns]"
      ]
     },
     "execution_count": 192,
     "metadata": {},
     "output_type": "execute_result"
    }
   ],
   "source": [
    "df.fillna(df.ex_showroom_price.mean(),inplace=True)\n",
    "df"
   ]
  },
  {
   "cell_type": "code",
   "execution_count": 193,
   "id": "30ce185b",
   "metadata": {},
   "outputs": [
    {
     "data": {
      "text/plain": [
       "0        87958.71\n",
       "1        87958.71\n",
       "2       148114.00\n",
       "3        89643.00\n",
       "4        87958.71\n",
       "          ...    \n",
       "1056     52000.00\n",
       "1057     51000.00\n",
       "1058     57000.00\n",
       "1059     58000.00\n",
       "1060     75000.00\n",
       "Name: ex_showroom_price, Length: 1061, dtype: float64"
      ]
     },
     "execution_count": 193,
     "metadata": {},
     "output_type": "execute_result"
    }
   ],
   "source": [
    "df.ex_showroom_price.round(2)"
   ]
  },
  {
   "cell_type": "code",
   "execution_count": 194,
   "id": "2047c848",
   "metadata": {},
   "outputs": [
    {
     "data": {
      "text/plain": [
       "array(['1st owner', '2nd owner', '3rd owner', '4th owner'], dtype=object)"
      ]
     },
     "execution_count": 194,
     "metadata": {},
     "output_type": "execute_result"
    }
   ],
   "source": [
    "df.owner.unique()  #identifying how much owners are in the dataframe"
   ]
  },
  {
   "cell_type": "code",
   "execution_count": 195,
   "id": "325e803e",
   "metadata": {},
   "outputs": [
    {
     "data": {
      "text/plain": [
       "{'1st owner': 1, '2nd owner': 2, '3rd owner': 3, '4th owner': 4}"
      ]
     },
     "execution_count": 195,
     "metadata": {},
     "output_type": "execute_result"
    }
   ],
   "source": [
    "#pd.get_dummies(df['owner'])\n",
    "#encoding the owner column\n",
    "di = {'1st owner':1, '2nd owner':2, '3rd owner':3, '4th owner':4}\n",
    "di"
   ]
  },
  {
   "cell_type": "code",
   "execution_count": 196,
   "id": "fd01aed8",
   "metadata": {},
   "outputs": [],
   "source": [
    "df['owner'].replace(di, inplace=True)"
   ]
  },
  {
   "cell_type": "code",
   "execution_count": 197,
   "id": "587102d6",
   "metadata": {},
   "outputs": [
    {
     "data": {
      "text/plain": [
       "array([1, 2, 3, 4], dtype=int64)"
      ]
     },
     "execution_count": 197,
     "metadata": {},
     "output_type": "execute_result"
    }
   ],
   "source": [
    "df['owner'].unique()"
   ]
  },
  {
   "cell_type": "code",
   "execution_count": 198,
   "id": "414cb4bb",
   "metadata": {},
   "outputs": [],
   "source": [
    "#encoding the seller_type\n",
    "dj = {'Individual': 0, 'Dealer': 1}\n",
    "df['seller_type'].replace(dj, inplace = True)"
   ]
  },
  {
   "cell_type": "code",
   "execution_count": 199,
   "id": "d81b716b",
   "metadata": {},
   "outputs": [
    {
     "data": {
      "text/plain": [
       "array([0, 1], dtype=int64)"
      ]
     },
     "execution_count": 199,
     "metadata": {},
     "output_type": "execute_result"
    }
   ],
   "source": [
    "df['seller_type'].unique()"
   ]
  },
  {
   "cell_type": "code",
   "execution_count": 200,
   "id": "9ed5b52c",
   "metadata": {},
   "outputs": [
    {
     "data": {
      "image/png": "[encoded data removed]",
      "text/plain": [
       "<Figure size 800x600 with 2 Axes>"
      ]
     },
     "metadata": {},
     "output_type": "display_data"
    }
   ],
   "source": [
    "import seaborn as sns\n",
    "import matplotlib.pyplot as plt\n",
    "\n",
    "# Create a new DataFrame without modifying the original DataFrame\n",
    "df_new = df.drop(columns=['name'])\n",
    "\n",
    "# Visualize the correlation matrix of the new DataFrame\n",
    "corr = df_new.corr()\n",
    "\n",
    "# Plot the heatmap\n",
    "plt.figure(figsize=(8,6))\n",
    "sns.heatmap(corr, annot=True, cmap='crest')\n",
    "plt.title('Correlation Matrix')\n",
    "plt.show()\n"
   ]
  },
  {
   "cell_type": "code",
   "execution_count": 202,
   "id": "91beb3a7",
   "metadata": {},
   "outputs": [],
   "source": [
    "x = df.drop(columns=['name','selling_price']).values\n",
    "y = df['selling_price'].values\n",
    "\n",
    "from sklearn.model_selection import train_test_split\n",
    "\n",
    "X_train, X_test, y_train, y_test = train_test_split(x, y, test_size=0.2)"
   ]
  },
  {
   "cell_type": "code",
   "execution_count": 203,
   "id": "c0cd3a7d",
   "metadata": {},
   "outputs": [
    {
     "data": {
      "text/plain": [
       "848"
      ]
     },
     "execution_count": 203,
     "metadata": {},
     "output_type": "execute_result"
    }
   ],
   "source": [
    "len(X_train)"
   ]
  },
  {
   "cell_type": "code",
   "execution_count": 204,
   "id": "e100c707",
   "metadata": {},
   "outputs": [],
   "source": [
    "from sklearn.linear_model import LinearRegression\n",
    "lr = LinearRegression()"
   ]
  },
  {
   "cell_type": "code",
   "execution_count": 205,
   "id": "d5f4f10d",
   "metadata": {},
   "outputs": [
    {
     "data": {
      "text/plain": [
       "848"
      ]
     },
     "execution_count": 205,
     "metadata": {},
     "output_type": "execute_result"
    }
   ],
   "source": [
    "len(y_train)"
   ]
  },
  {
   "cell_type": "code",
   "execution_count": 206,
   "id": "6827a652",
   "metadata": {},
   "outputs": [
    {
     "data": {
      "text/plain": [
       "213"
      ]
     },
     "execution_count": 206,
     "metadata": {},
     "output_type": "execute_result"
    }
   ],
   "source": [
    "len(X_test)"
   ]
  },
  {
   "cell_type": "code",
   "execution_count": 207,
   "id": "13bffcef",
   "metadata": {},
   "outputs": [],
   "source": [
    "model = lr.fit(X_train,y_train)"
   ]
  },
  {
   "cell_type": "code",
   "execution_count": 208,
   "id": "e743279c",
   "metadata": {},
   "outputs": [
    {
     "data": {
      "text/plain": [
       "array([ 2.35297336e+04,  2.57507280e+05,  5.63053253e+04,  7.25222327e+04,\n",
       "        1.03789342e+05,  3.34861935e+04,  6.05821090e+04,  1.42906595e+04,\n",
       "        6.49396965e+04,  1.26806764e+04,  2.10464740e+04,  6.40548390e+04,\n",
       "        6.77519447e+04,  4.52288651e+04,  5.44207978e+04,  4.44123168e+04,\n",
       "        7.41553565e+04,  4.34405348e+04,  3.88523613e+04,  7.42169308e+04,\n",
       "        6.21326932e+04,  2.35297336e+04,  1.15912506e+05,  4.91406994e+04,\n",
       "        3.33406235e+04,  6.31154317e+04,  8.40256596e+04,  3.39208636e+04,\n",
       "        1.33195987e+05,  9.91555095e+02,  1.52679163e+05,  6.70862559e+04,\n",
       "        5.58876269e+04,  2.84036257e+04,  8.42339024e+04,  4.83062540e+04,\n",
       "        7.44681907e+04,  5.76341800e+04,  7.48271077e+04,  3.31313362e+04,\n",
       "        4.92805708e+04,  7.39458184e+04,  4.30113108e+04,  3.41649814e+04,\n",
       "        5.65895276e+04,  1.13776668e+05,  2.24322967e+04,  5.23961594e+04,\n",
       "        7.39236023e+04,  8.42271849e+04,  6.93199882e+04,  7.85195195e+04,\n",
       "        2.08034706e+04,  4.57132360e+04,  3.79814070e+04,  1.59140081e+05,\n",
       "        6.27635930e+04,  5.98112899e+04,  3.49857234e+04,  4.26132328e+04,\n",
       "        3.98587169e+04,  5.10018683e+04,  6.42178783e+04,  3.13369511e+04,\n",
       "        8.38469432e+05,  7.09212732e+04,  7.93427992e+04,  2.70228399e+04,\n",
       "        7.96279090e+04,  5.47263293e+04,  6.25472270e+04,  1.54083470e+04,\n",
       "        1.03295472e+04,  1.19218747e+05,  4.56289208e+04,  3.20288624e+04,\n",
       "        5.57313827e+04,  5.73032805e+04,  6.37051309e+04,  8.39987895e+04,\n",
       "        7.48271077e+04,  4.84796458e+04,  5.25740273e+04,  5.78481332e+04,\n",
       "        4.90861544e+04,  6.72512056e+04,  2.32632529e+04,  4.55551951e+04,\n",
       "        6.15798384e+04,  6.52255051e+04,  3.70563052e+04,  6.96553100e+04,\n",
       "        4.76345028e+04,  4.23395596e+04,  8.36897840e+04,  6.12643928e+04,\n",
       "        7.96279090e+04,  4.21700329e+04,  7.53645087e+04,  7.34265064e+04,\n",
       "        7.27446790e+04,  6.37957839e+04,  2.70494927e+04,  5.32012275e+04,\n",
       "        5.56698740e+04,  5.98734831e+04,  6.07526890e+04,  8.42943600e+04,\n",
       "        2.52392344e+04,  7.96950841e+04,  4.79128748e+04,  4.47209748e+04,\n",
       "        6.15543719e+04,  7.12922887e+04,  1.14280481e+05,  5.79910273e+04,\n",
       "        5.20250368e+05,  3.00300542e+04,  4.27215279e+04,  3.91181490e+04,\n",
       "        7.84523444e+04,  7.58531296e+04,  8.24861106e+04,  8.37569591e+04,\n",
       "        3.47030169e+04,  1.93736963e+04,  5.71393390e+04,  3.15318000e+04,\n",
       "        3.83687758e+04,  7.08324078e+04,  5.23279510e+04,  7.91912707e+04,\n",
       "        2.61473435e+04,  2.35505439e+04,  5.82162576e+04,  4.31371473e+04,\n",
       "        2.69291486e+04,  3.23723088e+04,  4.37038807e+04,  5.22161438e+04,\n",
       "        6.00868649e+04,  1.15321730e+05,  2.31938580e+04,  8.77863926e+04,\n",
       "        3.12497454e+04, -1.31174208e+03,  1.38848032e+05,  2.88343483e+04,\n",
       "        4.30688144e+04,  6.17730553e+04,  8.43615352e+04,  4.61463914e+02,\n",
       "        2.74908459e+04,  4.13572048e+04,  3.07227035e+04,  5.32551764e+04,\n",
       "        5.23345414e+04,  1.46314406e+05,  2.53841208e+04,  3.66186000e+04,\n",
       "        5.05136351e+04,  6.88795563e+04,  5.46544349e+04,  5.59332858e+04,\n",
       "        6.52255051e+04,  4.69239204e+04,  5.92662760e+04,  1.07133968e+04,\n",
       "        4.66516258e+04,  5.24688916e+04,  8.34210835e+04,  8.39987895e+04,\n",
       "        4.83040342e+04,  5.15451779e+04,  2.16578144e+04,  4.17253120e+04,\n",
       "        5.09910390e+04,  6.91746016e+03,  4.16718692e+04,  6.97885676e+04,\n",
       "        7.94868412e+04,  8.27724389e+04,  5.13940897e+04,  7.96605516e+04,\n",
       "        3.38127590e+04,  8.88167690e+04,  4.01981859e+04,  6.68354882e+04,\n",
       "        4.50168929e+04,  5.84244955e+04,  6.54905325e+04,  5.55567274e+04,\n",
       "        7.76462430e+04,  8.08833515e+03,  1.04929162e+05,  8.43413826e+04,\n",
       "        6.78205068e+04,  3.38030874e+04,  4.78561466e+04,  6.50874818e+04,\n",
       "        8.27489262e+04,  9.09968176e+04,  5.02281175e+04,  7.42897067e+04,\n",
       "        7.92920334e+04,  5.82225351e+04,  5.32078180e+04,  8.40458121e+04,\n",
       "        7.10675208e+04,  5.90127813e+04,  5.66315293e+04, -1.98430384e+04,\n",
       "        7.48398742e+04])"
      ]
     },
     "execution_count": 208,
     "metadata": {},
     "output_type": "execute_result"
    }
   ],
   "source": [
    "pred = lr.predict(X_test)\n",
    "pred"
   ]
  },
  {
   "cell_type": "code",
   "execution_count": 209,
   "id": "b451b39c",
   "metadata": {},
   "outputs": [
    {
     "data": {
      "text/plain": [
       "0.8230259111343254"
      ]
     },
     "execution_count": 209,
     "metadata": {},
     "output_type": "execute_result"
    }
   ],
   "source": [
    "score = lr.score(X_test,y_test)\n",
    "score"
   ]
  },
  {
   "cell_type": "code",
   "execution_count": 211,
   "id": "fc44743e",
   "metadata": {},
   "outputs": [
    {
     "data": {
      "text/plain": [
       "<Axes: >"
      ]
     },
     "execution_count": 211,
     "metadata": {},
     "output_type": "execute_result"
    },
    {
     "data": {
      "image/png": "[encoded data removed]",
      "text/plain": [
       "<Figure size 640x480 with 1 Axes>"
      ]
     },
     "metadata": {},
     "output_type": "display_data"
    }
   ],
   "source": [
    "sns.regplot(x=y_test, y=pred,data=df, scatter_kws={\"color\": \"red\"}, line_kws={\"color\": \"skyblue\"})"
   ]
  }
 ],
 "metadata": {
  "kernelspec": {
   "display_name": "Python 3 (ipykernel)",
   "language": "python",
   "name": "python3"
  },
  "language_info": {
   "codemirror_mode": {
    "name": "ipython",
    "version": 3
   },
   "file_extension": ".py",
   "mimetype": "text/x-python",
   "name": "python",
   "nbconvert_exporter": "python",
   "pygments_lexer": "ipython3",
   "version": "3.11.0"
  }
 },
 "nbformat": 4,
 "nbformat_minor": 5
}
